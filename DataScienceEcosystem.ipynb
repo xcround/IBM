{
 "cells": [
  {
   "cell_type": "markdown",
   "metadata": {},
   "source": [
    "<center>\n",
    "    <img src=\"https://cf-courses-data.s3.us.cloud-object-storage.appdomain.cloud/IBMDeveloperSkillsNetwork-DS0105EN-SkillsNetwork/labs/Module2/images/SN_web_lightmode.png\" width=\"300\" alt=\"cognitiveclass.ai logo\">\n",
    "</center>\n"
   ]
  },
  {
   "cell_type": "markdown",
   "metadata": {},
   "source": [
    "#### Add your code below following the instructions given in the course\n"
   ]
  },
  {
   "cell_type": "markdown",
   "metadata": {},
   "source": [
    "In this notebook, Data Science Tools and Ecosystem are summarized.\n",
    "\n",
    "Objectives:\n",
    "\n",
    "- List popular languages for Data Science\n",
    "- Describe some of the key Python libraries for Data Science, such as NumPy, Pandas, and Matplotlib\n",
    "- Explain how to perform data analysis and manipulation tasks in Python using these libraries"
   ]
  },
  {
   "cell_type": "markdown",
   "metadata": {},
   "source": [
    "Some of the popular languages that Data Scientists use are:\n",
    "\n",
    "1. Python\n",
    "2. R\n",
    "3. SQL\n",
    "4. Java"
   ]
  },
  {
   "cell_type": "markdown",
   "metadata": {},
   "source": [
    "Some of the commonly used libraries used by Data Scientists include:\n",
    "\n",
    "1. TensorFlow\n",
    "2. NumPy\n",
    "3. SciPy\n",
    "4. Pandas"
   ]
  },
  {
   "cell_type": "markdown",
   "metadata": {},
   "source": [
    "# Data Science Tools\n",
    "| Tools |  \n",
    "| --- | \n",
    "| Python |  \n",
    "| R | \n",
    "| Tableau | "
   ]
  },
  {
   "cell_type": "markdown",
   "metadata": {},
   "source": [
    "### Evaluating Arithmetic Expressions in Python\n",
    "\n",
    "Arithmetic expressions are used to perform mathematical operations in programming. Python provides a variety of operators for arithmetic expressions, including addition, subtraction, multiplication, and division.\n",
    "\n",
    "Below are a few examples of evaluating arithmetic expressions in Python:\n",
    "\n",
    "- Addition: `3 + 5` results in `8`\n",
    "- Subtraction: `10 - 4` results in `6`\n",
    "- Multiplication: `2 * 6` results in `12`\n",
    "- Division: `20 / 4` results in `5`\n",
    "\n",
    "You can also use parentheses to group expressions and control the order of operations:\n",
    "\n",
    "- `(3 + 5) * 2` results in `16`\n",
    "- `10 - (4 + 2)` results in `4`\n",
    "\n",
    "By combining these operators and grouping expressions with parentheses, you can perform complex calculations in Python.\n"
   ]
  },
  {
   "cell_type": "code",
   "execution_count": 6,
   "metadata": {},
   "outputs": [
    {
     "name": "stdout",
     "output_type": "stream",
     "text": [
      "17\n"
     ]
    }
   ],
   "source": [
    "# This is a simple arithmetic expression to multiply then add integers.\n",
    "result = (3 * 4) + 5\n",
    "print(result)\n"
   ]
  },
  {
   "cell_type": "code",
   "execution_count": 7,
   "metadata": {},
   "outputs": [
    {
     "name": "stdout",
     "output_type": "stream",
     "text": [
      "3.3333333333333335\n"
     ]
    }
   ],
   "source": [
    "# This will convert 200 minutes to hours by dividing by 60.\n",
    "minutes = 200\n",
    "hours = minutes / 60\n",
    "print(hours)"
   ]
  },
  {
   "cell_type": "markdown",
   "metadata": {},
   "source": [
    "## Author\n",
    "\n",
    "My name is Jaewon Seo.\n"
   ]
  }
 ],
 "metadata": {
  "kernelspec": {
   "display_name": "Python",
   "language": "python",
   "name": "conda-env-python-py"
  },
  "language_info": {
   "codemirror_mode": {
    "name": "ipython",
    "version": 3
   },
   "file_extension": ".py",
   "mimetype": "text/x-python",
   "name": "python",
   "nbconvert_exporter": "python",
   "pygments_lexer": "ipython3",
   "version": "3.7.12"
  }
 },
 "nbformat": 4,
 "nbformat_minor": 4
}
